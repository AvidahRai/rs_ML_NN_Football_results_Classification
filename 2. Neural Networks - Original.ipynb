{
 "cells": [
  {
   "cell_type": "markdown",
   "metadata": {},
   "source": [
    "## Football Match Result Prediction - Using Neural Network 1\n",
    "### Using author's configurations\n",
    "<p>\n",
    "<strong>\n",
    "@author Avinash Rai <br/>\n",
    "@lastmodified 11/03/2021\n",
    "</strong>\n",
    "</p>"
   ]
  },
  {
   "cell_type": "code",
   "execution_count": 2,
   "metadata": {},
   "outputs": [],
   "source": [
    "import os, sys\n",
    "import tensorflow as tf\n",
    "from tensorflow.keras.models import Model, load_model, Sequential\n",
    "from tensorflow.keras.layers import Input, Dropout, Dense, Flatten\n",
    "from tensorflow.keras.optimizers import Adam\n",
    "\n",
    "from sklearn import metrics\n",
    "from utilities import getTrainTestDataset, cat_3_confusion_matrix, plot_training_history\n",
    "import matplotlib.pyplot as plt"
   ]
  },
  {
   "cell_type": "code",
   "execution_count": 3,
   "metadata": {},
   "outputs": [
    {
     "name": "stdout",
     "output_type": "stream",
     "text": [
      "(1772, 29)\n",
      "(1775, 29)\n",
      "(874, 29)\n",
      "(875, 29)\n"
     ]
    }
   ],
   "source": [
    "X_train_epl, X_test_epl, y_train_epl, y_test_epl = getTrainTestDataset(\"pickles\\dataset-epl.pickle\")\n",
    "X_train_spl, X_test_spl, y_train_spl, y_test_spl = getTrainTestDataset(\"pickles\\dataset-spl.pickle\")\n",
    "print(X_train_epl.shape)\n",
    "print(X_train_spl.shape)\n",
    "print(X_test_epl.shape)\n",
    "print(X_test_spl.shape)"
   ]
  },
  {
   "cell_type": "code",
   "execution_count": 4,
   "metadata": {
    "scrolled": true
   },
   "outputs": [
    {
     "data": {
      "text/html": [
       "<div>\n",
       "<style scoped>\n",
       "    .dataframe tbody tr th:only-of-type {\n",
       "        vertical-align: middle;\n",
       "    }\n",
       "\n",
       "    .dataframe tbody tr th {\n",
       "        vertical-align: top;\n",
       "    }\n",
       "\n",
       "    .dataframe thead th {\n",
       "        text-align: right;\n",
       "    }\n",
       "</style>\n",
       "<table border=\"1\" class=\"dataframe\">\n",
       "  <thead>\n",
       "    <tr style=\"text-align: right;\">\n",
       "      <th></th>\n",
       "      <th>HTGS</th>\n",
       "      <th>ATGS</th>\n",
       "      <th>HTGC</th>\n",
       "      <th>ATGC</th>\n",
       "      <th>HTP</th>\n",
       "      <th>ATP</th>\n",
       "      <th>HTGD</th>\n",
       "      <th>ATGD</th>\n",
       "      <th>DiffPts</th>\n",
       "      <th>DiffFormPts</th>\n",
       "      <th>...</th>\n",
       "      <th>AM5</th>\n",
       "      <th>HTWinStreak3</th>\n",
       "      <th>HTWinStreak5</th>\n",
       "      <th>HTLossStreak3</th>\n",
       "      <th>HTLossStreak5</th>\n",
       "      <th>ATWinStreak3</th>\n",
       "      <th>ATWinStreak5</th>\n",
       "      <th>ATLossStreak3</th>\n",
       "      <th>ATLossStreak5</th>\n",
       "      <th>DiffLP</th>\n",
       "    </tr>\n",
       "  </thead>\n",
       "  <tbody>\n",
       "    <tr>\n",
       "      <th>1526</th>\n",
       "      <td>-0.867168</td>\n",
       "      <td>-0.149891</td>\n",
       "      <td>-0.368570</td>\n",
       "      <td>-0.491395</td>\n",
       "      <td>-1.030352</td>\n",
       "      <td>-0.160132</td>\n",
       "      <td>-0.539587</td>\n",
       "      <td>0.291926</td>\n",
       "      <td>-0.945089</td>\n",
       "      <td>-1.174424</td>\n",
       "      <td>...</td>\n",
       "      <td>3</td>\n",
       "      <td>0</td>\n",
       "      <td>0</td>\n",
       "      <td>0</td>\n",
       "      <td>0</td>\n",
       "      <td>1</td>\n",
       "      <td>0</td>\n",
       "      <td>0</td>\n",
       "      <td>0</td>\n",
       "      <td>14</td>\n",
       "    </tr>\n",
       "    <tr>\n",
       "      <th>157</th>\n",
       "      <td>0.588288</td>\n",
       "      <td>2.467009</td>\n",
       "      <td>1.524303</td>\n",
       "      <td>1.000785</td>\n",
       "      <td>0.743320</td>\n",
       "      <td>2.278740</td>\n",
       "      <td>-0.783542</td>\n",
       "      <td>1.573927</td>\n",
       "      <td>-1.650598</td>\n",
       "      <td>-1.584578</td>\n",
       "      <td>...</td>\n",
       "      <td>3</td>\n",
       "      <td>0</td>\n",
       "      <td>0</td>\n",
       "      <td>0</td>\n",
       "      <td>0</td>\n",
       "      <td>0</td>\n",
       "      <td>0</td>\n",
       "      <td>0</td>\n",
       "      <td>0</td>\n",
       "      <td>7</td>\n",
       "    </tr>\n",
       "    <tr>\n",
       "      <th>1574</th>\n",
       "      <td>0.467000</td>\n",
       "      <td>2.162718</td>\n",
       "      <td>0.375059</td>\n",
       "      <td>1.272091</td>\n",
       "      <td>1.393667</td>\n",
       "      <td>1.921832</td>\n",
       "      <td>0.131290</td>\n",
       "      <td>1.024498</td>\n",
       "      <td>-0.560267</td>\n",
       "      <td>-0.969348</td>\n",
       "      <td>...</td>\n",
       "      <td>3</td>\n",
       "      <td>0</td>\n",
       "      <td>0</td>\n",
       "      <td>0</td>\n",
       "      <td>0</td>\n",
       "      <td>0</td>\n",
       "      <td>0</td>\n",
       "      <td>0</td>\n",
       "      <td>0</td>\n",
       "      <td>4</td>\n",
       "    </tr>\n",
       "    <tr>\n",
       "      <th>1850</th>\n",
       "      <td>-1.412963</td>\n",
       "      <td>-1.184480</td>\n",
       "      <td>-1.450211</td>\n",
       "      <td>-1.508791</td>\n",
       "      <td>-1.148597</td>\n",
       "      <td>-1.111887</td>\n",
       "      <td>-0.112666</td>\n",
       "      <td>0.169831</td>\n",
       "      <td>-0.047170</td>\n",
       "      <td>0.056036</td>\n",
       "      <td>...</td>\n",
       "      <td>1</td>\n",
       "      <td>0</td>\n",
       "      <td>0</td>\n",
       "      <td>0</td>\n",
       "      <td>0</td>\n",
       "      <td>0</td>\n",
       "      <td>0</td>\n",
       "      <td>0</td>\n",
       "      <td>0</td>\n",
       "      <td>6</td>\n",
       "    </tr>\n",
       "    <tr>\n",
       "      <th>38</th>\n",
       "      <td>-0.260728</td>\n",
       "      <td>0.397832</td>\n",
       "      <td>0.645469</td>\n",
       "      <td>-0.423569</td>\n",
       "      <td>-0.498251</td>\n",
       "      <td>0.553684</td>\n",
       "      <td>-0.844531</td>\n",
       "      <td>0.780307</td>\n",
       "      <td>-1.137501</td>\n",
       "      <td>-0.149041</td>\n",
       "      <td>...</td>\n",
       "      <td>0</td>\n",
       "      <td>0</td>\n",
       "      <td>0</td>\n",
       "      <td>0</td>\n",
       "      <td>0</td>\n",
       "      <td>0</td>\n",
       "      <td>0</td>\n",
       "      <td>0</td>\n",
       "      <td>0</td>\n",
       "      <td>15</td>\n",
       "    </tr>\n",
       "  </tbody>\n",
       "</table>\n",
       "<p>5 rows × 29 columns</p>\n",
       "</div>"
      ],
      "text/plain": [
       "          HTGS      ATGS      HTGC      ATGC       HTP       ATP      HTGD  \\\n",
       "1526 -0.867168 -0.149891 -0.368570 -0.491395 -1.030352 -0.160132 -0.539587   \n",
       "157   0.588288  2.467009  1.524303  1.000785  0.743320  2.278740 -0.783542   \n",
       "1574  0.467000  2.162718  0.375059  1.272091  1.393667  1.921832  0.131290   \n",
       "1850 -1.412963 -1.184480 -1.450211 -1.508791 -1.148597 -1.111887 -0.112666   \n",
       "38   -0.260728  0.397832  0.645469 -0.423569 -0.498251  0.553684 -0.844531   \n",
       "\n",
       "          ATGD   DiffPts  DiffFormPts  ...  AM5  HTWinStreak3  HTWinStreak5  \\\n",
       "1526  0.291926 -0.945089    -1.174424  ...    3             0             0   \n",
       "157   1.573927 -1.650598    -1.584578  ...    3             0             0   \n",
       "1574  1.024498 -0.560267    -0.969348  ...    3             0             0   \n",
       "1850  0.169831 -0.047170     0.056036  ...    1             0             0   \n",
       "38    0.780307 -1.137501    -0.149041  ...    0             0             0   \n",
       "\n",
       "      HTLossStreak3  HTLossStreak5  ATWinStreak3  ATWinStreak5  ATLossStreak3  \\\n",
       "1526              0              0             1             0              0   \n",
       "157               0              0             0             0              0   \n",
       "1574              0              0             0             0              0   \n",
       "1850              0              0             0             0              0   \n",
       "38                0              0             0             0              0   \n",
       "\n",
       "      ATLossStreak5  DiffLP  \n",
       "1526              0      14  \n",
       "157               0       7  \n",
       "1574              0       4  \n",
       "1850              0       6  \n",
       "38                0      15  \n",
       "\n",
       "[5 rows x 29 columns]"
      ]
     },
     "execution_count": 4,
     "metadata": {},
     "output_type": "execute_result"
    }
   ],
   "source": [
    "X_train_epl.head()"
   ]
  },
  {
   "cell_type": "code",
   "execution_count": 5,
   "metadata": {},
   "outputs": [
    {
     "data": {
      "text/html": [
       "<div>\n",
       "<style scoped>\n",
       "    .dataframe tbody tr th:only-of-type {\n",
       "        vertical-align: middle;\n",
       "    }\n",
       "\n",
       "    .dataframe tbody tr th {\n",
       "        vertical-align: top;\n",
       "    }\n",
       "\n",
       "    .dataframe thead th {\n",
       "        text-align: right;\n",
       "    }\n",
       "</style>\n",
       "<table border=\"1\" class=\"dataframe\">\n",
       "  <thead>\n",
       "    <tr style=\"text-align: right;\">\n",
       "      <th></th>\n",
       "      <th>HTGS</th>\n",
       "      <th>ATGS</th>\n",
       "      <th>HTGC</th>\n",
       "      <th>ATGC</th>\n",
       "      <th>HTP</th>\n",
       "      <th>ATP</th>\n",
       "      <th>HTGD</th>\n",
       "      <th>ATGD</th>\n",
       "      <th>DiffPts</th>\n",
       "      <th>DiffFormPts</th>\n",
       "      <th>...</th>\n",
       "      <th>AM5</th>\n",
       "      <th>HTWinStreak3</th>\n",
       "      <th>HTWinStreak5</th>\n",
       "      <th>HTLossStreak3</th>\n",
       "      <th>HTLossStreak5</th>\n",
       "      <th>ATWinStreak3</th>\n",
       "      <th>ATWinStreak5</th>\n",
       "      <th>ATLossStreak3</th>\n",
       "      <th>ATLossStreak5</th>\n",
       "      <th>DiffLP</th>\n",
       "    </tr>\n",
       "  </thead>\n",
       "  <tbody>\n",
       "    <tr>\n",
       "      <th>2020</th>\n",
       "      <td>-1.153904</td>\n",
       "      <td>-1.099911</td>\n",
       "      <td>-1.389243</td>\n",
       "      <td>-1.243118</td>\n",
       "      <td>-0.980697</td>\n",
       "      <td>-0.935257</td>\n",
       "      <td>0.067027</td>\n",
       "      <td>-0.012995</td>\n",
       "      <td>-0.048462</td>\n",
       "      <td>-0.132584</td>\n",
       "      <td>...</td>\n",
       "      <td>1</td>\n",
       "      <td>0</td>\n",
       "      <td>0</td>\n",
       "      <td>0</td>\n",
       "      <td>0</td>\n",
       "      <td>0</td>\n",
       "      <td>0</td>\n",
       "      <td>0</td>\n",
       "      <td>0</td>\n",
       "      <td>2</td>\n",
       "    </tr>\n",
       "    <tr>\n",
       "      <th>1143</th>\n",
       "      <td>0.694261</td>\n",
       "      <td>0.728530</td>\n",
       "      <td>1.434441</td>\n",
       "      <td>1.436632</td>\n",
       "      <td>0.923569</td>\n",
       "      <td>0.907177</td>\n",
       "      <td>-0.559609</td>\n",
       "      <td>-0.521091</td>\n",
       "      <td>0.016695</td>\n",
       "      <td>-1.185784</td>\n",
       "      <td>...</td>\n",
       "      <td>1</td>\n",
       "      <td>0</td>\n",
       "      <td>0</td>\n",
       "      <td>1</td>\n",
       "      <td>0</td>\n",
       "      <td>0</td>\n",
       "      <td>0</td>\n",
       "      <td>0</td>\n",
       "      <td>0</td>\n",
       "      <td>1</td>\n",
       "    </tr>\n",
       "    <tr>\n",
       "      <th>230</th>\n",
       "      <td>-0.865129</td>\n",
       "      <td>-0.528523</td>\n",
       "      <td>-0.798239</td>\n",
       "      <td>-0.262722</td>\n",
       "      <td>-0.861680</td>\n",
       "      <td>-0.578657</td>\n",
       "      <td>-0.160840</td>\n",
       "      <td>-0.295271</td>\n",
       "      <td>-0.309092</td>\n",
       "      <td>0.288696</td>\n",
       "      <td>...</td>\n",
       "      <td>0</td>\n",
       "      <td>0</td>\n",
       "      <td>0</td>\n",
       "      <td>0</td>\n",
       "      <td>0</td>\n",
       "      <td>0</td>\n",
       "      <td>0</td>\n",
       "      <td>0</td>\n",
       "      <td>0</td>\n",
       "      <td>4</td>\n",
       "    </tr>\n",
       "    <tr>\n",
       "      <th>1236</th>\n",
       "      <td>-0.114312</td>\n",
       "      <td>-0.299968</td>\n",
       "      <td>-1.257908</td>\n",
       "      <td>-0.720240</td>\n",
       "      <td>0.507011</td>\n",
       "      <td>-0.281490</td>\n",
       "      <td>0.978498</td>\n",
       "      <td>0.325735</td>\n",
       "      <td>0.863741</td>\n",
       "      <td>1.131256</td>\n",
       "      <td>...</td>\n",
       "      <td>3</td>\n",
       "      <td>0</td>\n",
       "      <td>0</td>\n",
       "      <td>0</td>\n",
       "      <td>0</td>\n",
       "      <td>0</td>\n",
       "      <td>0</td>\n",
       "      <td>0</td>\n",
       "      <td>0</td>\n",
       "      <td>-7</td>\n",
       "    </tr>\n",
       "    <tr>\n",
       "      <th>157</th>\n",
       "      <td>-0.980639</td>\n",
       "      <td>-0.757078</td>\n",
       "      <td>-0.404237</td>\n",
       "      <td>-0.197362</td>\n",
       "      <td>-1.040205</td>\n",
       "      <td>-1.113557</td>\n",
       "      <td>-0.616575</td>\n",
       "      <td>-0.577546</td>\n",
       "      <td>0.081852</td>\n",
       "      <td>0.288696</td>\n",
       "      <td>...</td>\n",
       "      <td>3</td>\n",
       "      <td>0</td>\n",
       "      <td>0</td>\n",
       "      <td>0</td>\n",
       "      <td>0</td>\n",
       "      <td>0</td>\n",
       "      <td>0</td>\n",
       "      <td>0</td>\n",
       "      <td>0</td>\n",
       "      <td>-2</td>\n",
       "    </tr>\n",
       "  </tbody>\n",
       "</table>\n",
       "<p>5 rows × 29 columns</p>\n",
       "</div>"
      ],
      "text/plain": [
       "          HTGS      ATGS      HTGC      ATGC       HTP       ATP      HTGD  \\\n",
       "2020 -1.153904 -1.099911 -1.389243 -1.243118 -0.980697 -0.935257  0.067027   \n",
       "1143  0.694261  0.728530  1.434441  1.436632  0.923569  0.907177 -0.559609   \n",
       "230  -0.865129 -0.528523 -0.798239 -0.262722 -0.861680 -0.578657 -0.160840   \n",
       "1236 -0.114312 -0.299968 -1.257908 -0.720240  0.507011 -0.281490  0.978498   \n",
       "157  -0.980639 -0.757078 -0.404237 -0.197362 -1.040205 -1.113557 -0.616575   \n",
       "\n",
       "          ATGD   DiffPts  DiffFormPts  ...  AM5  HTWinStreak3  HTWinStreak5  \\\n",
       "2020 -0.012995 -0.048462    -0.132584  ...    1             0             0   \n",
       "1143 -0.521091  0.016695    -1.185784  ...    1             0             0   \n",
       "230  -0.295271 -0.309092     0.288696  ...    0             0             0   \n",
       "1236  0.325735  0.863741     1.131256  ...    3             0             0   \n",
       "157  -0.577546  0.081852     0.288696  ...    3             0             0   \n",
       "\n",
       "      HTLossStreak3  HTLossStreak5  ATWinStreak3  ATWinStreak5  ATLossStreak3  \\\n",
       "2020              0              0             0             0              0   \n",
       "1143              1              0             0             0              0   \n",
       "230               0              0             0             0              0   \n",
       "1236              0              0             0             0              0   \n",
       "157               0              0             0             0              0   \n",
       "\n",
       "      ATLossStreak5  DiffLP  \n",
       "2020              0       2  \n",
       "1143              0       1  \n",
       "230               0       4  \n",
       "1236              0      -7  \n",
       "157               0      -2  \n",
       "\n",
       "[5 rows x 29 columns]"
      ]
     },
     "execution_count": 5,
     "metadata": {},
     "output_type": "execute_result"
    }
   ],
   "source": [
    "X_train_spl.head()"
   ]
  },
  {
   "cell_type": "markdown",
   "metadata": {},
   "source": [
    "## Basic Neural Network model"
   ]
  },
  {
   "cell_type": "code",
   "execution_count": 7,
   "metadata": {},
   "outputs": [
    {
     "name": "stdout",
     "output_type": "stream",
     "text": [
      "Model: \"Base_Model\"\n",
      "_________________________________________________________________\n",
      "Layer (type)                 Output Shape              Param #   \n",
      "=================================================================\n",
      "dense (Dense)                (None, 41)                1230      \n",
      "_________________________________________________________________\n",
      "dense_1 (Dense)              (None, 75)                3150      \n",
      "_________________________________________________________________\n",
      "dense_2 (Dense)              (None, 3)                 228       \n",
      "=================================================================\n",
      "Total params: 4,608\n",
      "Trainable params: 4,608\n",
      "Non-trainable params: 0\n",
      "_________________________________________________________________\n"
     ]
    }
   ],
   "source": [
    "# Build model using Keras Sequential Model\n",
    "input_shape = ( X_train_epl.shape[1], )\n",
    "baseModel = Sequential( name=\"Base_Model\" )\n",
    "baseModel.add( Dense(41, activation='relu', input_shape=input_shape, kernel_initializer=\"he_normal\"  ) )\n",
    "baseModel.add( Dense(75, activation='relu', kernel_initializer=\"he_normal\" ) )   \n",
    "baseModel.add( Dense(3 , activation='softmax') )\n",
    "baseModel.compile( optimizer=Adam(learning_rate=0.00001), \n",
    "    loss='sparse_categorical_crossentropy', metrics=['accuracy'] )\n",
    "baseModel.summary()"
   ]
  },
  {
   "cell_type": "code",
   "execution_count": 8,
   "metadata": {},
   "outputs": [
    {
     "name": "stdout",
     "output_type": "stream",
     "text": [
      "Epoch 00231: early stopping\n"
     ]
    }
   ],
   "source": [
    "# Train\n",
    "earlyStopping = tf.keras.callbacks.EarlyStopping(monitor='val_loss', patience=5, verbose=1 )\n",
    "trainEpl = baseModel.fit( \n",
    "    X_train_epl, \n",
    "    y_train_epl, \n",
    "    epochs = 500, \n",
    "    validation_data = (X_test_epl,y_test_epl), \n",
    "    verbose = 0, \n",
    "    callbacks = [earlyStopping]\n",
    ")"
   ]
  },
  {
   "cell_type": "code",
   "execution_count": 9,
   "metadata": {},
   "outputs": [
    {
     "data": {
      "image/png": "[encoded data removed]",
      "text/plain": [
       "<Figure size 1080x360 with 2 Axes>"
      ]
     },
     "metadata": {
      "needs_background": "light"
     },
     "output_type": "display_data"
    }
   ],
   "source": [
    "plot_training_history(trainEpl)"
   ]
  },
  {
   "cell_type": "markdown",
   "metadata": {},
   "source": [
    "## Dynamic Neural Network"
   ]
  },
  {
   "cell_type": "code",
   "execution_count": 10,
   "metadata": {},
   "outputs": [],
   "source": [
    "def buildNN( name, input_data, learning_rate, layers, dropout_rate ):\n",
    "    \n",
    "    input_shape = ( input_data.shape[1], )\n",
    "    \n",
    "    nn_model = Sequential( name=name )\n",
    "    nn_model.add( Input(shape=input_shape ))\n",
    "    # nn_model.add(Flatten())\n",
    "    \n",
    "    for layer in layers:\n",
    "        nn_model.add( Dense(layer, activation = 'relu', kernel_initializer=\"he_normal\") )\n",
    "    nn_model.add( Dropout(dropout_rate) )\n",
    "\n",
    "    # Output    \n",
    "    nn_model.add( Dense(3 , activation='softmax') )\n",
    "    nn_model.compile( optimizer=Adam(learning_rate=learning_rate), \n",
    "        loss='sparse_categorical_crossentropy', metrics=['accuracy'] )\n",
    "    nn_model.summary()\n",
    "    \n",
    "    return nn_model"
   ]
  },
  {
   "cell_type": "markdown",
   "metadata": {},
   "source": [
    "### EPL"
   ]
  },
  {
   "cell_type": "code",
   "execution_count": 11,
   "metadata": {},
   "outputs": [
    {
     "name": "stdout",
     "output_type": "stream",
     "text": [
      "Model: \"epl_roland-shun-41-75-3\"\n",
      "_________________________________________________________________\n",
      "Layer (type)                 Output Shape              Param #   \n",
      "=================================================================\n",
      "dense_3 (Dense)              (None, 41)                1230      \n",
      "_________________________________________________________________\n",
      "dense_4 (Dense)              (None, 75)                3150      \n",
      "_________________________________________________________________\n",
      "dropout (Dropout)            (None, 75)                0         \n",
      "_________________________________________________________________\n",
      "dense_5 (Dense)              (None, 3)                 228       \n",
      "=================================================================\n",
      "Total params: 4,608\n",
      "Trainable params: 4,608\n",
      "Non-trainable params: 0\n",
      "_________________________________________________________________\n"
     ]
    }
   ],
   "source": [
    "# EPL[1e-05, ‘41–75–3’, 0.5, 16, 2.8191776275634766, 0.6168224215507507]\n",
    "epl_best_model = buildNN( \"epl_roland-shun-41-75-3\", X_train_epl, 0.00001, [41,75], 0.5 )"
   ]
  },
  {
   "cell_type": "code",
   "execution_count": 12,
   "metadata": {},
   "outputs": [
    {
     "name": "stdout",
     "output_type": "stream",
     "text": [
      "Epoch 00019: early stopping\n"
     ]
    }
   ],
   "source": [
    "earlyStopping = tf.keras.callbacks.EarlyStopping(monitor='val_loss', patience=5, verbose=1 )\n",
    "training = epl_best_model.fit( \n",
    "    X_train_epl, \n",
    "    y_train_epl, \n",
    "    batch_size = 16, \n",
    "    epochs = 500,\n",
    "    validation_data = (X_test_epl,y_test_epl),\n",
    "    callbacks = [ earlyStopping ],\n",
    "    verbose = 0\n",
    ")"
   ]
  },
  {
   "cell_type": "code",
   "execution_count": 13,
   "metadata": {},
   "outputs": [
    {
     "data": {
      "image/png": "[encoded data removed]",
      "text/plain": [
       "<Figure size 1080x360 with 2 Axes>"
      ]
     },
     "metadata": {
      "needs_background": "light"
     },
     "output_type": "display_data"
    }
   ],
   "source": [
    "plot_training_history(training)"
   ]
  },
  {
   "cell_type": "code",
   "execution_count": 14,
   "metadata": {},
   "outputs": [],
   "source": [
    "# Save model\n",
    "save_path = \"saved_models\\\\\" + epl_best_model.name + \".h5\"\n",
    "epl_best_model.save( save_path )"
   ]
  },
  {
   "cell_type": "markdown",
   "metadata": {},
   "source": [
    "### La Liga"
   ]
  },
  {
   "cell_type": "code",
   "execution_count": 15,
   "metadata": {},
   "outputs": [
    {
     "name": "stdout",
     "output_type": "stream",
     "text": [
      "Model: \"spl_roland-shun-41-10-10-10\"\n",
      "_________________________________________________________________\n",
      "Layer (type)                 Output Shape              Param #   \n",
      "=================================================================\n",
      "dense_6 (Dense)              (None, 41)                1230      \n",
      "_________________________________________________________________\n",
      "dense_7 (Dense)              (None, 10)                420       \n",
      "_________________________________________________________________\n",
      "dense_8 (Dense)              (None, 10)                110       \n",
      "_________________________________________________________________\n",
      "dense_9 (Dense)              (None, 10)                110       \n",
      "_________________________________________________________________\n",
      "dropout_1 (Dropout)          (None, 10)                0         \n",
      "_________________________________________________________________\n",
      "dense_10 (Dense)             (None, 3)                 33        \n",
      "=================================================================\n",
      "Total params: 1,903\n",
      "Trainable params: 1,903\n",
      "Non-trainable params: 0\n",
      "_________________________________________________________________\n"
     ]
    }
   ],
   "source": [
    "# La Liga[1e-05, ‘41–10–10–10–3’, 0, 32, 0.9817492961883545, 0.5420560836791992]\n",
    "spl_best_model = buildNN( \"spl_roland-shun-41-10-10-10\", X_train_spl, 0.00001, [41,10,10,10], 0 )"
   ]
  },
  {
   "cell_type": "code",
   "execution_count": 16,
   "metadata": {},
   "outputs": [],
   "source": [
    "earlyStopping = tf.keras.callbacks.EarlyStopping(monitor='val_loss', patience=5, verbose=1 )\n",
    "spl_training = spl_best_model.fit( \n",
    "    X_train_spl, \n",
    "    y_train_spl,\n",
    "    batch_size = 32,\n",
    "    epochs = 500,\n",
    "    validation_data = (X_test_spl, y_test_spl),\n",
    "    callbacks = [ earlyStopping ],\n",
    "    verbose = 0\n",
    ")"
   ]
  },
  {
   "cell_type": "code",
   "execution_count": 17,
   "metadata": {},
   "outputs": [
    {
     "data": {
      "image/png": "[encoded data removed]",
      "text/plain": [
       "<Figure size 1080x360 with 2 Axes>"
      ]
     },
     "metadata": {
      "needs_background": "light"
     },
     "output_type": "display_data"
    }
   ],
   "source": [
    "plot_training_history(spl_training)"
   ]
  },
  {
   "cell_type": "code",
   "execution_count": 18,
   "metadata": {},
   "outputs": [],
   "source": [
    "# Save model\n",
    "save_path = \"saved_models\\\\\" + spl_best_model.name + \".h5\"\n",
    "spl_best_model.save( save_path )"
   ]
  },
  {
   "cell_type": "code",
   "execution_count": null,
   "metadata": {},
   "outputs": [],
   "source": []
  }
 ],
 "metadata": {
  "kernelspec": {
   "display_name": "Python 3",
   "language": "python",
   "name": "python3"
  },
  "language_info": {
   "codemirror_mode": {
    "name": "ipython",
    "version": 3
   },
   "file_extension": ".py",
   "mimetype": "text/x-python",
   "name": "python",
   "nbconvert_exporter": "python",
   "pygments_lexer": "ipython3",
   "version": "3.7.7"
  }
 },
 "nbformat": 4,
 "nbformat_minor": 4
}
