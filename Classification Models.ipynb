{
 "cells": [
  {
   "cell_type": "markdown",
   "metadata": {},
   "source": [
    "## Football Match Result Prediction - Using Scikit Learn Classifiers\n",
    "\n",
    "<p>\n",
    "<strong>\n",
    "@author Avinash Rai <br/>\n",
    "@lastmodified 09/03/2021\n",
    "</strong>\n",
    "</p>"
   ]
  },
  {
   "cell_type": "code",
   "execution_count": 1,
   "metadata": {},
   "outputs": [],
   "source": [
    "from sklearn import metrics\n",
    "from utilities import getTrainTestDataset, cat_3_confusion_matrix"
   ]
  },
  {
   "cell_type": "code",
   "execution_count": 2,
   "metadata": {},
   "outputs": [],
   "source": [
    "X_train_epl, X_test_epl, y_train_epl, y_test_epl = getTrainTestDataset(\"pickles\\dataset-epl.pickle\")\n",
    "X_train_spl, X_test_spl, y_train_spl, y_test_spl = getTrainTestDataset(\"pickles\\dataset-spl.pickle\")"
   ]
  },
  {
   "cell_type": "code",
   "execution_count": 3,
   "metadata": {},
   "outputs": [
    {
     "name": "stdout",
     "output_type": "stream",
     "text": [
      "(1772, 29)\n",
      "(1775, 29)\n",
      "(874, 29)\n",
      "(875, 29)\n"
     ]
    }
   ],
   "source": [
    "print(X_train_epl.shape)\n",
    "print(X_train_spl.shape)\n",
    "print(X_test_epl.shape)\n",
    "print(X_test_spl.shape)"
   ]
  },
  {
   "cell_type": "code",
   "execution_count": 4,
   "metadata": {},
   "outputs": [
    {
     "data": {
      "text/html": [
       "<div>\n",
       "<style scoped>\n",
       "    .dataframe tbody tr th:only-of-type {\n",
       "        vertical-align: middle;\n",
       "    }\n",
       "\n",
       "    .dataframe tbody tr th {\n",
       "        vertical-align: top;\n",
       "    }\n",
       "\n",
       "    .dataframe thead th {\n",
       "        text-align: right;\n",
       "    }\n",
       "</style>\n",
       "<table border=\"1\" class=\"dataframe\">\n",
       "  <thead>\n",
       "    <tr style=\"text-align: right;\">\n",
       "      <th></th>\n",
       "      <th>HTGS</th>\n",
       "      <th>ATGS</th>\n",
       "      <th>HTGC</th>\n",
       "      <th>ATGC</th>\n",
       "      <th>HTP</th>\n",
       "      <th>ATP</th>\n",
       "      <th>HTGD</th>\n",
       "      <th>ATGD</th>\n",
       "      <th>DiffPts</th>\n",
       "      <th>DiffFormPts</th>\n",
       "      <th>...</th>\n",
       "      <th>AM5</th>\n",
       "      <th>HTWinStreak3</th>\n",
       "      <th>HTWinStreak5</th>\n",
       "      <th>HTLossStreak3</th>\n",
       "      <th>HTLossStreak5</th>\n",
       "      <th>ATWinStreak3</th>\n",
       "      <th>ATWinStreak5</th>\n",
       "      <th>ATLossStreak3</th>\n",
       "      <th>ATLossStreak5</th>\n",
       "      <th>DiffLP</th>\n",
       "    </tr>\n",
       "  </thead>\n",
       "  <tbody>\n",
       "    <tr>\n",
       "      <th>1526</th>\n",
       "      <td>-0.867168</td>\n",
       "      <td>-0.149891</td>\n",
       "      <td>-0.368570</td>\n",
       "      <td>-0.491395</td>\n",
       "      <td>-1.030352</td>\n",
       "      <td>-0.160132</td>\n",
       "      <td>-0.539587</td>\n",
       "      <td>0.291926</td>\n",
       "      <td>-0.945089</td>\n",
       "      <td>-1.174424</td>\n",
       "      <td>...</td>\n",
       "      <td>3</td>\n",
       "      <td>0</td>\n",
       "      <td>0</td>\n",
       "      <td>0</td>\n",
       "      <td>0</td>\n",
       "      <td>1</td>\n",
       "      <td>0</td>\n",
       "      <td>0</td>\n",
       "      <td>0</td>\n",
       "      <td>14</td>\n",
       "    </tr>\n",
       "    <tr>\n",
       "      <th>157</th>\n",
       "      <td>0.588288</td>\n",
       "      <td>2.467009</td>\n",
       "      <td>1.524303</td>\n",
       "      <td>1.000785</td>\n",
       "      <td>0.743320</td>\n",
       "      <td>2.278740</td>\n",
       "      <td>-0.783542</td>\n",
       "      <td>1.573927</td>\n",
       "      <td>-1.650598</td>\n",
       "      <td>-1.584578</td>\n",
       "      <td>...</td>\n",
       "      <td>3</td>\n",
       "      <td>0</td>\n",
       "      <td>0</td>\n",
       "      <td>0</td>\n",
       "      <td>0</td>\n",
       "      <td>0</td>\n",
       "      <td>0</td>\n",
       "      <td>0</td>\n",
       "      <td>0</td>\n",
       "      <td>7</td>\n",
       "    </tr>\n",
       "    <tr>\n",
       "      <th>1574</th>\n",
       "      <td>0.467000</td>\n",
       "      <td>2.162718</td>\n",
       "      <td>0.375059</td>\n",
       "      <td>1.272091</td>\n",
       "      <td>1.393667</td>\n",
       "      <td>1.921832</td>\n",
       "      <td>0.131290</td>\n",
       "      <td>1.024498</td>\n",
       "      <td>-0.560267</td>\n",
       "      <td>-0.969348</td>\n",
       "      <td>...</td>\n",
       "      <td>3</td>\n",
       "      <td>0</td>\n",
       "      <td>0</td>\n",
       "      <td>0</td>\n",
       "      <td>0</td>\n",
       "      <td>0</td>\n",
       "      <td>0</td>\n",
       "      <td>0</td>\n",
       "      <td>0</td>\n",
       "      <td>4</td>\n",
       "    </tr>\n",
       "    <tr>\n",
       "      <th>1850</th>\n",
       "      <td>-1.412963</td>\n",
       "      <td>-1.184480</td>\n",
       "      <td>-1.450211</td>\n",
       "      <td>-1.508791</td>\n",
       "      <td>-1.148597</td>\n",
       "      <td>-1.111887</td>\n",
       "      <td>-0.112666</td>\n",
       "      <td>0.169831</td>\n",
       "      <td>-0.047170</td>\n",
       "      <td>0.056036</td>\n",
       "      <td>...</td>\n",
       "      <td>1</td>\n",
       "      <td>0</td>\n",
       "      <td>0</td>\n",
       "      <td>0</td>\n",
       "      <td>0</td>\n",
       "      <td>0</td>\n",
       "      <td>0</td>\n",
       "      <td>0</td>\n",
       "      <td>0</td>\n",
       "      <td>6</td>\n",
       "    </tr>\n",
       "    <tr>\n",
       "      <th>38</th>\n",
       "      <td>-0.260728</td>\n",
       "      <td>0.397832</td>\n",
       "      <td>0.645469</td>\n",
       "      <td>-0.423569</td>\n",
       "      <td>-0.498251</td>\n",
       "      <td>0.553684</td>\n",
       "      <td>-0.844531</td>\n",
       "      <td>0.780307</td>\n",
       "      <td>-1.137501</td>\n",
       "      <td>-0.149041</td>\n",
       "      <td>...</td>\n",
       "      <td>0</td>\n",
       "      <td>0</td>\n",
       "      <td>0</td>\n",
       "      <td>0</td>\n",
       "      <td>0</td>\n",
       "      <td>0</td>\n",
       "      <td>0</td>\n",
       "      <td>0</td>\n",
       "      <td>0</td>\n",
       "      <td>15</td>\n",
       "    </tr>\n",
       "  </tbody>\n",
       "</table>\n",
       "<p>5 rows × 29 columns</p>\n",
       "</div>"
      ],
      "text/plain": [
       "          HTGS      ATGS      HTGC      ATGC       HTP       ATP      HTGD  \\\n",
       "1526 -0.867168 -0.149891 -0.368570 -0.491395 -1.030352 -0.160132 -0.539587   \n",
       "157   0.588288  2.467009  1.524303  1.000785  0.743320  2.278740 -0.783542   \n",
       "1574  0.467000  2.162718  0.375059  1.272091  1.393667  1.921832  0.131290   \n",
       "1850 -1.412963 -1.184480 -1.450211 -1.508791 -1.148597 -1.111887 -0.112666   \n",
       "38   -0.260728  0.397832  0.645469 -0.423569 -0.498251  0.553684 -0.844531   \n",
       "\n",
       "          ATGD   DiffPts  DiffFormPts  ...  AM5  HTWinStreak3  HTWinStreak5  \\\n",
       "1526  0.291926 -0.945089    -1.174424  ...    3             0             0   \n",
       "157   1.573927 -1.650598    -1.584578  ...    3             0             0   \n",
       "1574  1.024498 -0.560267    -0.969348  ...    3             0             0   \n",
       "1850  0.169831 -0.047170     0.056036  ...    1             0             0   \n",
       "38    0.780307 -1.137501    -0.149041  ...    0             0             0   \n",
       "\n",
       "      HTLossStreak3  HTLossStreak5  ATWinStreak3  ATWinStreak5  ATLossStreak3  \\\n",
       "1526              0              0             1             0              0   \n",
       "157               0              0             0             0              0   \n",
       "1574              0              0             0             0              0   \n",
       "1850              0              0             0             0              0   \n",
       "38                0              0             0             0              0   \n",
       "\n",
       "      ATLossStreak5  DiffLP  \n",
       "1526              0      14  \n",
       "157               0       7  \n",
       "1574              0       4  \n",
       "1850              0       6  \n",
       "38                0      15  \n",
       "\n",
       "[5 rows x 29 columns]"
      ]
     },
     "execution_count": 4,
     "metadata": {},
     "output_type": "execute_result"
    }
   ],
   "source": [
    "X_train_epl.head()"
   ]
  },
  {
   "cell_type": "code",
   "execution_count": 5,
   "metadata": {
    "scrolled": true
   },
   "outputs": [
    {
     "data": {
      "text/html": [
       "<div>\n",
       "<style scoped>\n",
       "    .dataframe tbody tr th:only-of-type {\n",
       "        vertical-align: middle;\n",
       "    }\n",
       "\n",
       "    .dataframe tbody tr th {\n",
       "        vertical-align: top;\n",
       "    }\n",
       "\n",
       "    .dataframe thead th {\n",
       "        text-align: right;\n",
       "    }\n",
       "</style>\n",
       "<table border=\"1\" class=\"dataframe\">\n",
       "  <thead>\n",
       "    <tr style=\"text-align: right;\">\n",
       "      <th></th>\n",
       "      <th>HTGS</th>\n",
       "      <th>ATGS</th>\n",
       "      <th>HTGC</th>\n",
       "      <th>ATGC</th>\n",
       "      <th>HTP</th>\n",
       "      <th>ATP</th>\n",
       "      <th>HTGD</th>\n",
       "      <th>ATGD</th>\n",
       "      <th>DiffPts</th>\n",
       "      <th>DiffFormPts</th>\n",
       "      <th>...</th>\n",
       "      <th>AM5</th>\n",
       "      <th>HTWinStreak3</th>\n",
       "      <th>HTWinStreak5</th>\n",
       "      <th>HTLossStreak3</th>\n",
       "      <th>HTLossStreak5</th>\n",
       "      <th>ATWinStreak3</th>\n",
       "      <th>ATWinStreak5</th>\n",
       "      <th>ATLossStreak3</th>\n",
       "      <th>ATLossStreak5</th>\n",
       "      <th>DiffLP</th>\n",
       "    </tr>\n",
       "  </thead>\n",
       "  <tbody>\n",
       "    <tr>\n",
       "      <th>2020</th>\n",
       "      <td>-1.153904</td>\n",
       "      <td>-1.099911</td>\n",
       "      <td>-1.389243</td>\n",
       "      <td>-1.243118</td>\n",
       "      <td>-0.980697</td>\n",
       "      <td>-0.935257</td>\n",
       "      <td>0.067027</td>\n",
       "      <td>-0.012995</td>\n",
       "      <td>-0.048462</td>\n",
       "      <td>-0.132584</td>\n",
       "      <td>...</td>\n",
       "      <td>1</td>\n",
       "      <td>0</td>\n",
       "      <td>0</td>\n",
       "      <td>0</td>\n",
       "      <td>0</td>\n",
       "      <td>0</td>\n",
       "      <td>0</td>\n",
       "      <td>0</td>\n",
       "      <td>0</td>\n",
       "      <td>2</td>\n",
       "    </tr>\n",
       "    <tr>\n",
       "      <th>1143</th>\n",
       "      <td>0.694261</td>\n",
       "      <td>0.728530</td>\n",
       "      <td>1.434441</td>\n",
       "      <td>1.436632</td>\n",
       "      <td>0.923569</td>\n",
       "      <td>0.907177</td>\n",
       "      <td>-0.559609</td>\n",
       "      <td>-0.521091</td>\n",
       "      <td>0.016695</td>\n",
       "      <td>-1.185784</td>\n",
       "      <td>...</td>\n",
       "      <td>1</td>\n",
       "      <td>0</td>\n",
       "      <td>0</td>\n",
       "      <td>1</td>\n",
       "      <td>0</td>\n",
       "      <td>0</td>\n",
       "      <td>0</td>\n",
       "      <td>0</td>\n",
       "      <td>0</td>\n",
       "      <td>1</td>\n",
       "    </tr>\n",
       "    <tr>\n",
       "      <th>230</th>\n",
       "      <td>-0.865129</td>\n",
       "      <td>-0.528523</td>\n",
       "      <td>-0.798239</td>\n",
       "      <td>-0.262722</td>\n",
       "      <td>-0.861680</td>\n",
       "      <td>-0.578657</td>\n",
       "      <td>-0.160840</td>\n",
       "      <td>-0.295271</td>\n",
       "      <td>-0.309092</td>\n",
       "      <td>0.288696</td>\n",
       "      <td>...</td>\n",
       "      <td>0</td>\n",
       "      <td>0</td>\n",
       "      <td>0</td>\n",
       "      <td>0</td>\n",
       "      <td>0</td>\n",
       "      <td>0</td>\n",
       "      <td>0</td>\n",
       "      <td>0</td>\n",
       "      <td>0</td>\n",
       "      <td>4</td>\n",
       "    </tr>\n",
       "    <tr>\n",
       "      <th>1236</th>\n",
       "      <td>-0.114312</td>\n",
       "      <td>-0.299968</td>\n",
       "      <td>-1.257908</td>\n",
       "      <td>-0.720240</td>\n",
       "      <td>0.507011</td>\n",
       "      <td>-0.281490</td>\n",
       "      <td>0.978498</td>\n",
       "      <td>0.325735</td>\n",
       "      <td>0.863741</td>\n",
       "      <td>1.131256</td>\n",
       "      <td>...</td>\n",
       "      <td>3</td>\n",
       "      <td>0</td>\n",
       "      <td>0</td>\n",
       "      <td>0</td>\n",
       "      <td>0</td>\n",
       "      <td>0</td>\n",
       "      <td>0</td>\n",
       "      <td>0</td>\n",
       "      <td>0</td>\n",
       "      <td>-7</td>\n",
       "    </tr>\n",
       "    <tr>\n",
       "      <th>157</th>\n",
       "      <td>-0.980639</td>\n",
       "      <td>-0.757078</td>\n",
       "      <td>-0.404237</td>\n",
       "      <td>-0.197362</td>\n",
       "      <td>-1.040205</td>\n",
       "      <td>-1.113557</td>\n",
       "      <td>-0.616575</td>\n",
       "      <td>-0.577546</td>\n",
       "      <td>0.081852</td>\n",
       "      <td>0.288696</td>\n",
       "      <td>...</td>\n",
       "      <td>3</td>\n",
       "      <td>0</td>\n",
       "      <td>0</td>\n",
       "      <td>0</td>\n",
       "      <td>0</td>\n",
       "      <td>0</td>\n",
       "      <td>0</td>\n",
       "      <td>0</td>\n",
       "      <td>0</td>\n",
       "      <td>-2</td>\n",
       "    </tr>\n",
       "  </tbody>\n",
       "</table>\n",
       "<p>5 rows × 29 columns</p>\n",
       "</div>"
      ],
      "text/plain": [
       "          HTGS      ATGS      HTGC      ATGC       HTP       ATP      HTGD  \\\n",
       "2020 -1.153904 -1.099911 -1.389243 -1.243118 -0.980697 -0.935257  0.067027   \n",
       "1143  0.694261  0.728530  1.434441  1.436632  0.923569  0.907177 -0.559609   \n",
       "230  -0.865129 -0.528523 -0.798239 -0.262722 -0.861680 -0.578657 -0.160840   \n",
       "1236 -0.114312 -0.299968 -1.257908 -0.720240  0.507011 -0.281490  0.978498   \n",
       "157  -0.980639 -0.757078 -0.404237 -0.197362 -1.040205 -1.113557 -0.616575   \n",
       "\n",
       "          ATGD   DiffPts  DiffFormPts  ...  AM5  HTWinStreak3  HTWinStreak5  \\\n",
       "2020 -0.012995 -0.048462    -0.132584  ...    1             0             0   \n",
       "1143 -0.521091  0.016695    -1.185784  ...    1             0             0   \n",
       "230  -0.295271 -0.309092     0.288696  ...    0             0             0   \n",
       "1236  0.325735  0.863741     1.131256  ...    3             0             0   \n",
       "157  -0.577546  0.081852     0.288696  ...    3             0             0   \n",
       "\n",
       "      HTLossStreak3  HTLossStreak5  ATWinStreak3  ATWinStreak5  ATLossStreak3  \\\n",
       "2020              0              0             0             0              0   \n",
       "1143              1              0             0             0              0   \n",
       "230               0              0             0             0              0   \n",
       "1236              0              0             0             0              0   \n",
       "157               0              0             0             0              0   \n",
       "\n",
       "      ATLossStreak5  DiffLP  \n",
       "2020              0       2  \n",
       "1143              0       1  \n",
       "230               0       4  \n",
       "1236              0      -7  \n",
       "157               0      -2  \n",
       "\n",
       "[5 rows x 29 columns]"
      ]
     },
     "execution_count": 5,
     "metadata": {},
     "output_type": "execute_result"
    }
   ],
   "source": [
    "X_train_spl.head()"
   ]
  },
  {
   "cell_type": "markdown",
   "metadata": {},
   "source": [
    "## Logistic Regression"
   ]
  },
  {
   "cell_type": "code",
   "execution_count": 6,
   "metadata": {},
   "outputs": [],
   "source": [
    "from sklearn.linear_model import LogisticRegression"
   ]
  },
  {
   "cell_type": "code",
   "execution_count": 7,
   "metadata": {},
   "outputs": [
    {
     "name": "stdout",
     "output_type": "stream",
     "text": [
      "0.51\n"
     ]
    },
    {
     "data": {
      "image/png": "[encoded data removed]",
      "text/plain": [
       "<Figure size 432x288 with 2 Axes>"
      ]
     },
     "metadata": {
      "needs_background": "light"
     },
     "output_type": "display_data"
    }
   ],
   "source": [
    "# EPL\n",
    "LRModel = LogisticRegression(max_iter=1000)\n",
    "LRModel = LRModel.fit(X_train_epl, y_train_epl.values.ravel())\n",
    "predictLR = LRModel.predict(X_test_epl)\n",
    "\n",
    "lr_epl_accuracy = metrics.accuracy_score(y_test_epl.values.ravel(), predictLR)\n",
    "lr_epl_accuracy = round(lr_epl_accuracy, 2)\n",
    "print(lr_epl_accuracy)\n",
    "cat_3_confusion_matrix(LRModel, X_test_epl, y_test_epl.values.ravel() )"
   ]
  },
  {
   "cell_type": "code",
   "execution_count": 8,
   "metadata": {},
   "outputs": [
    {
     "name": "stderr",
     "output_type": "stream",
     "text": [
      "[Parallel(n_jobs=1)]: Using backend SequentialBackend with 1 concurrent workers.\n",
      "[Parallel(n_jobs=1)]: Done   1 out of   1 | elapsed:    0.0s finished\n"
     ]
    },
    {
     "name": "stdout",
     "output_type": "stream",
     "text": [
      "0.5\n"
     ]
    },
    {
     "data": {
      "image/png": "[encoded data removed]",
      "text/plain": [
       "<Figure size 432x288 with 2 Axes>"
      ]
     },
     "metadata": {
      "needs_background": "light"
     },
     "output_type": "display_data"
    }
   ],
   "source": [
    "# SPL\n",
    "LRModel = LogisticRegression(verbose=1, max_iter=1000)\n",
    "LRModel = LRModel.fit(X_train_spl, y_train_spl.values.ravel())\n",
    "predictLR = LRModel.predict(X_test_spl)\n",
    "\n",
    "lr_spl_accuracy = metrics.accuracy_score(y_test_spl.values.ravel(), predictLR)\n",
    "lr_spl_accuracy = round(lr_spl_accuracy, 2)\n",
    "print(lr_spl_accuracy)\n",
    "cat_3_confusion_matrix(LRModel, X_test_spl, y_test_spl.values.ravel() )"
   ]
  },
  {
   "cell_type": "markdown",
   "metadata": {},
   "source": [
    "## XGBoost Classifier"
   ]
  },
  {
   "cell_type": "code",
   "execution_count": 9,
   "metadata": {},
   "outputs": [],
   "source": [
    "from xgboost import XGBClassifier"
   ]
  },
  {
   "cell_type": "code",
   "execution_count": 10,
   "metadata": {},
   "outputs": [
    {
     "name": "stdout",
     "output_type": "stream",
     "text": [
      "0.53\n"
     ]
    },
    {
     "data": {
      "image/png": "[encoded data removed]",
      "text/plain": [
       "<Figure size 432x288 with 2 Axes>"
      ]
     },
     "metadata": {
      "needs_background": "light"
     },
     "output_type": "display_data"
    }
   ],
   "source": [
    "# EPL\n",
    "XGBModel = XGBClassifier()\n",
    "XGBModel.fit(X_train_epl, y_train_epl.values.ravel())\n",
    "predictXGB = XGBModel.predict(X_test_epl)\n",
    "\n",
    "xgb_epl_accuracy = metrics.accuracy_score(y_test_epl.values.ravel(), predictXGB)\n",
    "xgb_epl_accuracy = round(xgb_epl_accuracy, 2)\n",
    "print(xgb_epl_accuracy)\n",
    "cat_3_confusion_matrix(XGBModel, X_test_epl, y_test_epl.values.ravel() )"
   ]
  },
  {
   "cell_type": "code",
   "execution_count": 11,
   "metadata": {},
   "outputs": [
    {
     "name": "stdout",
     "output_type": "stream",
     "text": [
      "0.5\n"
     ]
    },
    {
     "data": {
      "image/png": "[encoded data removed]",
      "text/plain": [
       "<Figure size 432x288 with 2 Axes>"
      ]
     },
     "metadata": {
      "needs_background": "light"
     },
     "output_type": "display_data"
    }
   ],
   "source": [
    "# SPL\n",
    "XGBModel = XGBClassifier()\n",
    "XGBModel.fit(X_train_spl, y_train_spl.values.ravel())\n",
    "predictXGB = XGBModel.predict(X_test_spl)\n",
    "\n",
    "xgb_spl_accuracy = metrics.accuracy_score(y_test_spl.values.ravel(), predictXGB)\n",
    "xgb_spl_accuracy = round(xgb_spl_accuracy, 2)\n",
    "print(xgb_spl_accuracy)\n",
    "cat_3_confusion_matrix(XGBModel, X_test_spl, y_test_spl.values.ravel() )"
   ]
  },
  {
   "cell_type": "markdown",
   "metadata": {},
   "source": [
    "### Decision Trees"
   ]
  },
  {
   "cell_type": "code",
   "execution_count": 12,
   "metadata": {},
   "outputs": [],
   "source": [
    "from sklearn import tree"
   ]
  },
  {
   "cell_type": "code",
   "execution_count": 13,
   "metadata": {},
   "outputs": [
    {
     "name": "stdout",
     "output_type": "stream",
     "text": [
      "0.42\n"
     ]
    },
    {
     "data": {
      "image/png": "[encoded data removed]",
      "text/plain": [
       "<Figure size 432x288 with 2 Axes>"
      ]
     },
     "metadata": {
      "needs_background": "light"
     },
     "output_type": "display_data"
    }
   ],
   "source": [
    "# EPL\n",
    "DTModel = tree.DecisionTreeClassifier()\n",
    "DTModel.fit(X_train_epl, y_train_epl.values.ravel())\n",
    "predictDT = DTModel.predict(X_test_epl)\n",
    "\n",
    "dt_epl_accuracy = metrics.accuracy_score(y_test_epl.values.ravel(), predictDT)\n",
    "dt_epl_accuracy = round(dt_epl_accuracy, 2)\n",
    "print(dt_epl_accuracy)\n",
    "cat_3_confusion_matrix(DTModel, X_test_epl, y_test_epl.values.ravel() )"
   ]
  },
  {
   "cell_type": "code",
   "execution_count": 14,
   "metadata": {},
   "outputs": [
    {
     "name": "stdout",
     "output_type": "stream",
     "text": [
      "0.42\n"
     ]
    },
    {
     "data": {
      "image/png": "[encoded data removed]",
      "text/plain": [
       "<Figure size 432x288 with 2 Axes>"
      ]
     },
     "metadata": {
      "needs_background": "light"
     },
     "output_type": "display_data"
    }
   ],
   "source": [
    "# SPL\n",
    "DTModel2 = tree.DecisionTreeClassifier()\n",
    "DTModel2.fit(X_train_spl, y_train_spl.values.ravel())\n",
    "predictDT2 = DTModel2.predict(X_test_spl)\n",
    "\n",
    "dt_spl_accuracy = metrics.accuracy_score(y_test_spl.values.ravel(), predictDT2)\n",
    "dt_spl_accuracy = round(dt_epl_accuracy, 2)\n",
    "print(dt_spl_accuracy)\n",
    "cat_3_confusion_matrix(DTModel2, X_test_spl, y_test_spl.values.ravel() )"
   ]
  },
  {
   "cell_type": "markdown",
   "metadata": {},
   "source": [
    "### Support Vector Machine - Support Vector Classifier"
   ]
  },
  {
   "cell_type": "code",
   "execution_count": 15,
   "metadata": {},
   "outputs": [],
   "source": [
    " from sklearn.svm import SVC"
   ]
  },
  {
   "cell_type": "code",
   "execution_count": 16,
   "metadata": {},
   "outputs": [
    {
     "name": "stdout",
     "output_type": "stream",
     "text": [
      "[LibSVM]0.54\n"
     ]
    },
    {
     "data": {
      "image/png": "[encoded data removed]",
      "text/plain": [
       "<Figure size 432x288 with 2 Axes>"
      ]
     },
     "metadata": {
      "needs_background": "light"
     },
     "output_type": "display_data"
    }
   ],
   "source": [
    "# SPL\n",
    "SVCModel = SVC( verbose=1, decision_function_shape='ovo',kernel='rbf')\n",
    "SVCModel.fit(X_train_epl, y_train_epl.values.ravel())\n",
    "predictSVC = SVCModel.predict(X_test_epl)\n",
    "\n",
    "svc_epl_accuracy = metrics.accuracy_score(y_test_epl.values.ravel(), predictSVC)\n",
    "svc_epl_accuracy = round(svc_epl_accuracy, 2)\n",
    "print(svc_epl_accuracy)\n",
    "cat_3_confusion_matrix(SVCModel, X_test_epl, y_test_epl.values.ravel() )"
   ]
  },
  {
   "cell_type": "code",
   "execution_count": 17,
   "metadata": {},
   "outputs": [
    {
     "name": "stdout",
     "output_type": "stream",
     "text": [
      "[LibSVM]0.53\n"
     ]
    },
    {
     "data": {
      "image/png": "[encoded data removed]",
      "text/plain": [
       "<Figure size 432x288 with 2 Axes>"
      ]
     },
     "metadata": {
      "needs_background": "light"
     },
     "output_type": "display_data"
    }
   ],
   "source": [
    "# SPL\n",
    "SVCModel2 = SVC( verbose=1, decision_function_shape='ovo',kernel='rbf')\n",
    "SVCModel2.fit(X_train_spl, y_train_spl.values.ravel())\n",
    "predictSVC2 = SVCModel2.predict(X_test_spl)\n",
    "\n",
    "svc_spl_accuracy = metrics.accuracy_score(y_test_spl.values.ravel(), predictSVC2)\n",
    "svc_spl_accuracy = round(svc_spl_accuracy, 2)\n",
    "print(svc_spl_accuracy)\n",
    "cat_3_confusion_matrix(SVCModel2, X_test_epl, y_test_epl.values.ravel() )"
   ]
  },
  {
   "cell_type": "markdown",
   "metadata": {},
   "source": [
    "## Summary"
   ]
  },
  {
   "cell_type": "code",
   "execution_count": 18,
   "metadata": {},
   "outputs": [
    {
     "data": {
      "text/html": [
       "<table style=\"font-size:14px\"><tr><th>ML Classification Algorithms</th><th>EPL</th><th>SPL</th></tr><tr> <td>Logistic Regression</td> <td>0.51</td> <td> 0.5</td><tr> <td>XGBoost Classifier</td> <td>0.53</td> <td> 0.5</td><tr> <td>Decision Tree Classifier</td> <td>0.42</td> <td> 0.42</td><tr> <td>Support Vector Classifier</td> <td>0.54</td> <td> 0.53</td></table>"
      ],
      "text/plain": [
       "<IPython.core.display.HTML object>"
      ]
     },
     "metadata": {},
     "output_type": "display_data"
    }
   ],
   "source": [
    "from IPython.display import HTML, display\n",
    "html = '<table style=\"font-size:14px\">'\n",
    "html += \"<tr><th>ML Classification Algorithms</th><th>EPL</th><th>SPL</th></tr>\"\n",
    "html += \"<tr> <td>Logistic Regression</td> <td>\"+str(round(lr_epl_accuracy,2))+\"</td> <td> \"+str(round(lr_spl_accuracy,2))+\"</td>\" \n",
    "html += \"<tr> <td>XGBoost Classifier</td> <td>\"+str(round(xgb_epl_accuracy,2))+\"</td> <td> \"+str(round(xgb_spl_accuracy,2))+\"</td>\" \n",
    "html += \"<tr> <td>Decision Tree Classifier</td> <td>\"+str(round(dt_epl_accuracy,2))+\"</td> <td> \"+str(round(dt_spl_accuracy,2))+\"</td>\" \n",
    "html += \"<tr> <td>Support Vector Classifier</td> <td>\"+str(round(svc_epl_accuracy,2))+\"</td> <td> \"+str(round(svc_spl_accuracy,2))+\"</td>\" \n",
    "\n",
    "html += \"</table>\"\n",
    "\n",
    "display(HTML(html))"
   ]
  },
  {
   "cell_type": "code",
   "execution_count": null,
   "metadata": {},
   "outputs": [],
   "source": []
  }
 ],
 "metadata": {
  "kernelspec": {
   "display_name": "Python 3",
   "language": "python",
   "name": "python3"
  },
  "language_info": {
   "codemirror_mode": {
    "name": "ipython",
    "version": 3
   },
   "file_extension": ".py",
   "mimetype": "text/x-python",
   "name": "python",
   "nbconvert_exporter": "python",
   "pygments_lexer": "ipython3",
   "version": "3.7.7"
  }
 },
 "nbformat": 4,
 "nbformat_minor": 4
}
